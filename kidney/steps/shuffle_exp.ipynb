{
 "metadata": {
  "language_info": {
   "codemirror_mode": {
    "name": "ipython",
    "version": 3
   },
   "file_extension": ".py",
   "mimetype": "text/x-python",
   "name": "python",
   "nbconvert_exporter": "python",
   "pygments_lexer": "ipython3",
   "version": "3.8.3"
  },
  "orig_nbformat": 2,
  "kernelspec": {
   "name": "python383jvsc74a57bd0049b45abaa08724966c2af83936f891be0cfdf254198bebea50d121a052e6ca9",
   "display_name": "Python 3.8.3 64-bit ('base': conda)"
  }
 },
 "nbformat": 4,
 "nbformat_minor": 2,
 "cells": [
  {
   "cell_type": "code",
   "execution_count": 4,
   "metadata": {},
   "outputs": [
    {
     "output_type": "stream",
     "name": "stdout",
     "text": [
      "torch.Size([1, 3, 3, 1])\ntorch.Size([1, 3, 3])\n"
     ]
    }
   ],
   "source": [
    "import torch\n",
    "\n",
    "a = torch.rand(size=(1, 3, 3, 1))\n",
    "print(a.shape)\n",
    "a = a.squeeze(-1)\n",
    "print(a.shape)"
   ]
  },
  {
   "cell_type": "code",
   "execution_count": 4,
   "metadata": {},
   "outputs": [
    {
     "output_type": "execute_result",
     "data": {
      "text/plain": [
       "[(array([ 0,  1,  2,  4,  5,  6,  8,  9, 10, 12, 13, 14]),\n",
       "  array([ 3,  7, 11])),\n",
       " (array([ 0,  3,  4,  5,  6,  7,  8,  9, 10, 11, 13, 14]),\n",
       "  array([ 1,  2, 12])),\n",
       " (array([ 0,  1,  2,  3,  4,  5,  6,  7,  9, 11, 12, 13]),\n",
       "  array([ 8, 10, 14])),\n",
       " (array([ 1,  2,  3,  4,  5,  7,  8,  9, 10, 11, 12, 14]),\n",
       "  array([ 0,  6, 13])),\n",
       " (array([ 0,  1,  2,  3,  6,  7,  8, 10, 11, 12, 13, 14]), array([4, 5, 9]))]"
      ]
     },
     "metadata": {},
     "execution_count": 4
    }
   ],
   "source": [
    "from sklearn.model_selection import KFold\n",
    "import numpy as np\n",
    "\n",
    "a = np.arange(15)\n",
    "kf = KFold(n_splits=5, shuffle=True, random_state=2021)\n",
    "b = list(kf.split(a))\n",
    "b"
   ]
  },
  {
   "cell_type": "code",
   "execution_count": 5,
   "metadata": {},
   "outputs": [
    {
     "output_type": "execute_result",
     "data": {
      "text/plain": [
       "[(array([ 0,  1,  2,  4,  5,  6,  8,  9, 10, 12, 13, 14]),\n",
       "  array([ 3,  7, 11])),\n",
       " (array([ 0,  3,  4,  5,  6,  7,  8,  9, 10, 11, 13, 14]),\n",
       "  array([ 1,  2, 12])),\n",
       " (array([ 0,  1,  2,  3,  4,  5,  6,  7,  9, 11, 12, 13]),\n",
       "  array([ 8, 10, 14])),\n",
       " (array([ 1,  2,  3,  4,  5,  7,  8,  9, 10, 11, 12, 14]),\n",
       "  array([ 0,  6, 13])),\n",
       " (array([ 0,  1,  2,  3,  6,  7,  8, 10, 11, 12, 13, 14]), array([4, 5, 9]))]"
      ]
     },
     "metadata": {},
     "execution_count": 5
    }
   ],
   "source": [
    "a = np.arange(15)\n",
    "kf = KFold(n_splits=5, shuffle=True, random_state=2021)\n",
    "b = list(kf.split(a))\n",
    "b"
   ]
  }
 ]
}