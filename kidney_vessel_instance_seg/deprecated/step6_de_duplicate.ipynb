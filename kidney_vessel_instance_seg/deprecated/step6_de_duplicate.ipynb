{
 "cells": [
  {
   "cell_type": "code",
   "execution_count": 2,
   "metadata": {},
   "outputs": [
    {
     "name": "stdout",
     "output_type": "stream",
     "text": [
      "Number of duplicates removed: 822\n",
      "Total annotations: 17518\n"
     ]
    }
   ],
   "source": [
    "import json\n",
    "\n",
    "with open('/home/yiw/kg/input/polygons.jsonl', 'r') as json_file:\n",
    "    json_list = list(json_file)\n",
    "    \n",
    "tiles_dicts = []\n",
    "for json_str in json_list:\n",
    "    tiles_dicts.append(json.loads(json_str))\n",
    "\n",
    "cleaned_dicts = []\n",
    "num_dupes = 0\n",
    "total_annotations = 0\n",
    "for tile in tiles_dicts: \n",
    "    unique_annotations = []\n",
    "    for annotation in tile['annotations']:\n",
    "        total_annotations += 1\n",
    "        if annotation not in unique_annotations:\n",
    "            unique_annotations.append(annotation)\n",
    "        else:\n",
    "            num_dupes += 1\n",
    "    cleaned_dicts.append({'id': tile['id'], 'annotations': unique_annotations})\n",
    "\n",
    "print(f'Number of duplicates removed: {num_dupes}')\n",
    "print(f'Total annotations: {total_annotations}')"
   ]
  },
  {
   "cell_type": "code",
   "execution_count": 3,
   "metadata": {},
   "outputs": [
    {
     "data": {
      "text/plain": [
       "1633"
      ]
     },
     "execution_count": 3,
     "metadata": {},
     "output_type": "execute_result"
    }
   ],
   "source": [
    "len(tiles_dicts)"
   ]
  },
  {
   "cell_type": "code",
   "execution_count": 4,
   "metadata": {},
   "outputs": [
    {
     "data": {
      "text/plain": [
       "1633"
      ]
     },
     "execution_count": 4,
     "metadata": {},
     "output_type": "execute_result"
    }
   ],
   "source": [
    "len(cleaned_dicts)"
   ]
  },
  {
   "cell_type": "code",
   "execution_count": 5,
   "metadata": {},
   "outputs": [],
   "source": [
    "with open('cleaned_polygons.jsonl', 'w') as jsonl_file:\n",
    "    for c_dict in cleaned_dicts:\n",
    "        json.dump(c_dict, jsonl_file, separators=(',', ':'))\n",
    "        jsonl_file.write('\\n')"
   ]
  }
 ],
 "metadata": {
  "kernelspec": {
   "display_name": "Python 3",
   "language": "python",
   "name": "python3"
  },
  "language_info": {
   "codemirror_mode": {
    "name": "ipython",
    "version": 3
   },
   "file_extension": ".py",
   "mimetype": "text/x-python",
   "name": "python",
   "nbconvert_exporter": "python",
   "pygments_lexer": "ipython3",
   "version": "3.6.9"
  },
  "orig_nbformat": 4
 },
 "nbformat": 4,
 "nbformat_minor": 2
}
