{
 "cells": [
  {
   "cell_type": "code",
   "execution_count": 8,
   "metadata": {},
   "outputs": [],
   "source": [
    "import numpy as np\n",
    "import pandas as pd\n",
    "from glob import glob\n",
    "import shutil, os\n",
    "import matplotlib.pyplot as plt\n",
    "from sklearn.model_selection import GroupKFold\n",
    "from tqdm.notebook import tqdm\n",
    "import random"
   ]
  },
  {
   "cell_type": "code",
   "execution_count": 15,
   "metadata": {},
   "outputs": [],
   "source": [
    "seed = 47\n",
    "random.seed(seed)\n",
    "os.environ['PYTHONHASHSEED'] = str(seed)\n",
    "np.random.seed(seed)\n",
    "\n",
    "# 合并train_level study\n",
    "train_level_df = pd.read_csv('/datadisk/kg/siim/tmp/train_image_level.csv')\n",
    "train_study_df = pd.read_csv('/datadisk/kg/siim/tmp/train_study_level.csv')\n",
    "\n",
    "train_study_df['id'] = train_study_df['id'].apply(lambda x: x[:-6])\n",
    "train_study_df.rename(columns={'id': 'StudyInstanceUID'}, inplace=True)\n",
    "\n",
    "train_level_df = train_level_df.merge(train_study_df, on='StudyInstanceUID')\n",
    "\n",
    "# 合并meta\n",
    "meta_df = pd.read_csv('/datadisk/kg/siim/tmp/meta.csv')\n",
    "meta_df = meta_df[meta_df.split == 'train']\n",
    "meta_df['image_id'] = meta_df['image_id'].apply(lambda x: x + '_image')\n",
    "meta_df = meta_df.rename(columns={'image_id': 'id'})\n",
    "meta_df.drop(columns=['split'], inplace=True)\n",
    "train_level_df = train_level_df.merge(meta_df, on='id')\n",
    "\n",
    "#  添加path\n",
    "train_path = '/datadisk/kg/siim/tmp/train/'\n",
    "train_level_df['path'] = train_level_df['id'].apply(lambda x: train_path + x[:-6] + '.png')\n",
    "\n",
    "# 添加fold\n",
    "gkf = GroupKFold(n_splits=4)\n",
    "gkf = gkf.split(train_level_df, groups=train_level_df.StudyInstanceUID.tolist())\n",
    "train_level_df['fold'] = -1\n",
    "\n",
    "for fold, (train_idx, val_idx) in enumerate(gkf):\n",
    "    train_level_df.loc[val_idx, 'fold'] = fold\n",
    "\n",
    "# 保存完整的train_level_df\n",
    "train_level_df.to_csv('tmp/train_df_ano.csv', index=False)"
   ]
  },
  {
   "cell_type": "code",
   "execution_count": 16,
   "metadata": {},
   "outputs": [
    {
     "data": {
      "text/plain": "0       4\n1       0\n2       4\n3       1\n4       3\n       ..\n6329    3\n6330    3\n6331    2\n6332    1\n6333    3\nName: fold, Length: 6334, dtype: int64"
     },
     "execution_count": 16,
     "metadata": {},
     "output_type": "execute_result"
    }
   ],
   "source": [
    "train_df = pd.read_csv('/datadisk/kg/siim/tmp/train_df.csv')\n",
    "train_ano_df = pd.read_csv('/datadisk/kg/siim/tmp/train_df_ano.csv')\n",
    "train_df['fold']"
   ]
  },
  {
   "cell_type": "code",
   "execution_count": 17,
   "metadata": {},
   "outputs": [
    {
     "data": {
      "text/plain": "0       2\n1       1\n2       2\n3       2\n4       2\n       ..\n6329    0\n6330    3\n6331    1\n6332    3\n6333    0\nName: fold, Length: 6334, dtype: int64"
     },
     "execution_count": 17,
     "metadata": {},
     "output_type": "execute_result"
    }
   ],
   "source": [
    "train_ano_df['fold']"
   ]
  }
 ],
 "metadata": {
  "kernelspec": {
   "display_name": "Python 3.8.5 64-bit ('base': conda)",
   "name": "python383jvsc74a57bd0bf8dda74b6ece9698557ab1431b2923c78a20e6d4213149bdefcdbfba3d79441"
  },
  "language_info": {
   "codemirror_mode": {
    "name": "ipython",
    "version": 3
   },
   "file_extension": ".py",
   "mimetype": "text/x-python",
   "name": "python",
   "nbconvert_exporter": "python",
   "pygments_lexer": "ipython3",
   "version": "3.8.3"
  },
  "orig_nbformat": 2
 },
 "nbformat": 4,
 "nbformat_minor": 2
}