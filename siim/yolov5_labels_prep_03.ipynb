{
 "metadata": {
  "language_info": {
   "codemirror_mode": {
    "name": "ipython",
    "version": 3
   },
   "file_extension": ".py",
   "mimetype": "text/x-python",
   "name": "python",
   "nbconvert_exporter": "python",
   "pygments_lexer": "ipython3",
   "version": "3.8.3"
  },
  "orig_nbformat": 2,
  "kernelspec": {
   "name": "python383jvsc74a57bd0bf8dda74b6ece9698557ab1431b2923c78a20e6d4213149bdefcdbfba3d79441",
   "display_name": "Python 3.8.5 64-bit ('base': conda)"
  }
 },
 "nbformat": 4,
 "nbformat_minor": 2,
 "cells": [
  {
   "cell_type": "code",
   "execution_count": 5,
   "metadata": {},
   "outputs": [],
   "source": [
    "import ast\n",
    "import numpy as np\n",
    "import pandas as pd\n",
    "from glob import glob\n",
    "import shutil, os\n",
    "import matplotlib.pyplot as plt\n",
    "from sklearn.model_selection import GroupKFold\n",
    "from tqdm.notebook import tqdm"
   ]
  },
  {
   "cell_type": "code",
   "execution_count": 9,
   "metadata": {},
   "outputs": [],
   "source": [
    "train_df = pd.read_csv('/datadisk/kg/siim/tmp/train_df.csv')\n",
    "\n",
    "train_df[\"boxes\"].fillna(\"[{'x':0,'y':0,'width':1,'height':1}]\",inplace=True)\n",
    "train_df[\"boxes\"] = train_df[\"boxes\"].map(lambda x : ast.literal_eval(x))\n",
    "\n",
    "def preprocess_bbox(row):\n",
    "    factor_x = 1/row[9]\n",
    "    factor_y = 1/row[8]\n",
    "    bboxes = []\n",
    "    \n",
    "    if row[2].split(' ')[0] == \"opacity\":\n",
    "        for box in row[1]:\n",
    "            x = box[\"x\"] * factor_x\n",
    "            y = box[\"y\"] * factor_y\n",
    "            w = box[\"width\"] * factor_x\n",
    "            h = box[\"height\"] * factor_y\n",
    "            xc = x + w/2\n",
    "            yc = y + h/2\n",
    "        \n",
    "            bboxes.append([xc,yc,w,h])\n",
    "    return bboxes\n",
    "\n",
    "LABEL_PATH = \"labels\"\n",
    "os.makedirs(LABEL_PATH, exist_ok=True)\n",
    "for row in train_df.values:\n",
    "    filename = row[0].split('_')[0]\n",
    "    filepath = f\"{LABEL_PATH}/{filename}.txt\"\n",
    "    \n",
    "    label = row[2].split(' ')[0]\n",
    "    if label == \"opacity\":\n",
    "        bbox = preprocess_bbox(row)\n",
    "        with open(filepath, \"w\") as f:\n",
    "            for box in bbox:\n",
    "                box = [0] + box\n",
    "                box = [str(i) for i in box]\n",
    "                box = ' '.join(box)\n",
    "                f.write(box)\n",
    "                f.write('\\n')\n",
    "    else:\n",
    "        with open(filepath, \"w\") as f:\n",
    "            pass"
   ]
  }
 ]
}