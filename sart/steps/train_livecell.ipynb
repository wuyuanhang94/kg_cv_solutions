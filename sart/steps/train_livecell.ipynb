{
 "cells": [
  {
   "cell_type": "code",
   "execution_count": null,
   "metadata": {},
   "outputs": [],
   "source": [
    "# !pip install pycocotools\n",
    "# !pip install 'git+https://github.com/facebookresearch/detectron2.git'\n",
    "import matplotlib.pyplot as plt\n",
    "import cv2\n",
    "import json\n",
    "from pathlib import Path\n",
    "from pycocotools import _mask\n",
    "from pycocotools.coco import COCO\n",
    "from detectron2.data import MetadataCatalog, DatasetCatalog\n",
    "from detectron2.data.datasets import register_coco_instances\n",
    "from detectron2.utils.visualizer import Visualizer, ColorMode\n",
    "\n",
    "# Load LiveCell shsy5y data\n",
    "live_cell_imgs_dir = Path('../input/LIVECell_dataset_2021/images/livecell_train_val_images/SHSY5Y')\n",
    "\n",
    "register_coco_instances('sartorius_live_cell_train',{}, 'annotations_train.json', live_cell_imgs_dir)\n",
    "register_coco_instances('sartorius_live_cell_val',{},'annotations_val.json', live_cell_imgs_dir)\n",
    "\n",
    "live_cell_train_meta = MetadataCatalog.get('sartorius_live_cell_train')\n",
    "live_cell_train_ds = DatasetCatalog.get('sartorius_live_cell_train')\n",
    "\n",
    "live_cell_val_meta = MetadataCatalog.get('sartorius_live_cell_val')\n",
    "live_cell_val_ds = DatasetCatalog.get('sartorius_live_cell_val')\n",
    "\n",
    "train_sample = live_cell_train_ds[0]\n",
    "img = cv2.imread(train_sample['file_name'])\n",
    "\n",
    "visualizer = Visualizer(img[:, :, ::-1], metadata=live_cell_train_meta)\n",
    "out = visualizer.draw_dataset_dict(train_sample)\n",
    "\n",
    "_,ax = plt.subplots(1, 2, figsize=(30, 30))\n",
    "ax[0].imshow(img)\n",
    "ax[1].imshow(out.get_image()[:, :, ::-1])"
   ]
  }
 ],
 "metadata": {
  "kernelspec": {
   "display_name": "Python 3.8.0 64-bit",
   "language": "python",
   "name": "python3"
  },
  "language_info": {
   "name": "python",
   "version": "3.8.0"
  },
  "orig_nbformat": 4,
  "vscode": {
   "interpreter": {
    "hash": "df0893f56f349688326838aaeea0de204df53a132722cbd565e54b24a8fec5f6"
   }
  }
 },
 "nbformat": 4,
 "nbformat_minor": 2
}
