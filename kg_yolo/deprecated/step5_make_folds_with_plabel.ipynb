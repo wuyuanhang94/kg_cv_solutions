{
 "cells": [
  {
   "cell_type": "code",
   "execution_count": 1,
   "metadata": {},
   "outputs": [],
   "source": [
    "import json\n",
    "\n",
    "with open('../pseduo_label.json', 'r', encoding='utf-8') as f:\n",
    "    plabel = json.load(f)\n",
    "with open('../folds/coco_cell_train_fold2.json', 'r', encoding='utf-8') as f:\n",
    "    fold0 = json.load(f)"
   ]
  },
  {
   "cell_type": "code",
   "execution_count": 2,
   "metadata": {},
   "outputs": [],
   "source": [
    "for idx, anno in enumerate(plabel[\"annotations\"]):\n",
    "    anno[\"id\"] = idx"
   ]
  },
  {
   "cell_type": "code",
   "execution_count": 3,
   "metadata": {},
   "outputs": [],
   "source": [
    "with open(f'../pseduo_labels_folds/coco_cell_train_fold2.json', 'w', encoding='utf-8') as f:\n",
    "    json.dump(plabel, f, ensure_ascii=True, indent=4)"
   ]
  }
 ],
 "metadata": {
  "kernelspec": {
   "display_name": "Python 3",
   "language": "python",
   "name": "python3"
  },
  "language_info": {
   "codemirror_mode": {
    "name": "ipython",
    "version": 3
   },
   "file_extension": ".py",
   "mimetype": "text/x-python",
   "name": "python",
   "nbconvert_exporter": "python",
   "pygments_lexer": "ipython3",
   "version": "3.6.9"
  },
  "orig_nbformat": 4,
  "vscode": {
   "interpreter": {
    "hash": "c6ff6d93c7d79f342dac0d02922526e4297c5fb34d893e0ad67d099f62d0db73"
   }
  }
 },
 "nbformat": 4,
 "nbformat_minor": 2
}
