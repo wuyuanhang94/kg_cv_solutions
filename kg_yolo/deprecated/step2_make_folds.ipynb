{
 "cells": [
  {
   "cell_type": "code",
   "execution_count": 1,
   "metadata": {},
   "outputs": [
    {
     "name": "stdout",
     "output_type": "stream",
     "text": [
      "7034 1633\n"
     ]
    }
   ],
   "source": [
    "import glob\n",
    "import os\n",
    "import numpy as np\n",
    "import json\n",
    "import matplotlib.pyplot as plt\n",
    "from matplotlib.patches import Polygon\n",
    "import cv2\n",
    "from scipy.ndimage import label\n",
    "\n",
    "train = glob.glob(\"/home/yiw/kg/input/train/*\")\n",
    "\n",
    "annotations = {}\n",
    "\n",
    "# Open the annotations file\n",
    "with open('/home/yiw/kg/input/polygons.jsonl', 'r') as f:\n",
    "    for line in f:\n",
    "        annotation = json.loads(line)\n",
    "        image_id = annotation['id']\n",
    "        image_annotations = annotation['annotations']\n",
    "\n",
    "        annotations[image_id] = image_annotations\n",
    "\n",
    "image_map = {impath.split('/')[-1].split('.')[0]: impath for impath in train}\n",
    "print(len(set(image_map.keys())), len(set(annotations.keys())))\n",
    "#7033 1633"
   ]
  },
  {
   "cell_type": "code",
   "execution_count": 2,
   "metadata": {},
   "outputs": [
    {
     "data": {
      "application/vnd.jupyter.widget-view+json": {
       "model_id": "955592276cab4f53995695cb15033d88",
       "version_major": 2,
       "version_minor": 0
      },
      "text/plain": [
       "  0%|          | 0/1306 [00:00<?, ?it/s]"
      ]
     },
     "metadata": {},
     "output_type": "display_data"
    },
    {
     "data": {
      "application/vnd.jupyter.widget-view+json": {
       "model_id": "18ef765f20574cf2b9e42994a33e4bfb",
       "version_major": 2,
       "version_minor": 0
      },
      "text/plain": [
       "  0%|          | 0/327 [00:00<?, ?it/s]"
      ]
     },
     "metadata": {},
     "output_type": "display_data"
    },
    {
     "data": {
      "application/vnd.jupyter.widget-view+json": {
       "model_id": "fbf18d357cb44152b55053139e0b32bc",
       "version_major": 2,
       "version_minor": 0
      },
      "text/plain": [
       "  0%|          | 0/1306 [00:00<?, ?it/s]"
      ]
     },
     "metadata": {},
     "output_type": "display_data"
    },
    {
     "data": {
      "application/vnd.jupyter.widget-view+json": {
       "model_id": "c505dd3339514b9fa51b4d35f17a4465",
       "version_major": 2,
       "version_minor": 0
      },
      "text/plain": [
       "  0%|          | 0/327 [00:00<?, ?it/s]"
      ]
     },
     "metadata": {},
     "output_type": "display_data"
    },
    {
     "data": {
      "application/vnd.jupyter.widget-view+json": {
       "model_id": "c8651987826b4190a737b033a38c0541",
       "version_major": 2,
       "version_minor": 0
      },
      "text/plain": [
       "  0%|          | 0/1306 [00:00<?, ?it/s]"
      ]
     },
     "metadata": {},
     "output_type": "display_data"
    },
    {
     "data": {
      "application/vnd.jupyter.widget-view+json": {
       "model_id": "eb897c85628445949c5e2aa2d4e4f467",
       "version_major": 2,
       "version_minor": 0
      },
      "text/plain": [
       "  0%|          | 0/327 [00:00<?, ?it/s]"
      ]
     },
     "metadata": {},
     "output_type": "display_data"
    },
    {
     "data": {
      "application/vnd.jupyter.widget-view+json": {
       "model_id": "69171bc7ab344086b118b1f904d902eb",
       "version_major": 2,
       "version_minor": 0
      },
      "text/plain": [
       "  0%|          | 0/1307 [00:00<?, ?it/s]"
      ]
     },
     "metadata": {},
     "output_type": "display_data"
    },
    {
     "data": {
      "application/vnd.jupyter.widget-view+json": {
       "model_id": "8abd9f69813749aeaa5b51c563956ea8",
       "version_major": 2,
       "version_minor": 0
      },
      "text/plain": [
       "  0%|          | 0/326 [00:00<?, ?it/s]"
      ]
     },
     "metadata": {},
     "output_type": "display_data"
    },
    {
     "data": {
      "application/vnd.jupyter.widget-view+json": {
       "model_id": "98f4434c5feb4c969fc2a71884869ace",
       "version_major": 2,
       "version_minor": 0
      },
      "text/plain": [
       "  0%|          | 0/1307 [00:00<?, ?it/s]"
      ]
     },
     "metadata": {},
     "output_type": "display_data"
    },
    {
     "data": {
      "application/vnd.jupyter.widget-view+json": {
       "model_id": "f37c36bb6f1f4abc99f3d51c03f47491",
       "version_major": 2,
       "version_minor": 0
      },
      "text/plain": [
       "  0%|          | 0/326 [00:00<?, ?it/s]"
      ]
     },
     "metadata": {},
     "output_type": "display_data"
    }
   ],
   "source": [
    "import pandas as pd\n",
    "import numpy as np\n",
    "from tqdm import tqdm\n",
    "from tqdm.notebook import tqdm\n",
    "from datetime import datetime\n",
    "import json,itertools\n",
    "from typing import Optional\n",
    "from sklearn.model_selection import KFold\n",
    "\n",
    "def rle_decode(mask_rle, shape):\n",
    "    '''\n",
    "    mask_rle: run-length as string formated (start length)\n",
    "    shape: (height,width) of array to return \n",
    "    Returns numpy array, 1 - mask, 0 - background\n",
    "\n",
    "    '''\n",
    "    s = mask_rle.split()\n",
    "    starts, lengths = [np.asarray(x, dtype=int) for x in (s[0:][::2], s[1:][::2])]\n",
    "    starts -= 1\n",
    "    ends = starts + lengths\n",
    "    img = np.zeros(shape[0]*shape[1], dtype=np.uint8)\n",
    "    for lo, hi in zip(starts, ends):\n",
    "        img[lo:hi] = 1\n",
    "    return img.reshape(shape)  # Needed to align to RLE direction\n",
    "\n",
    "# From https://newbedev.com/encode-numpy-array-using-uncompressed-rle-for-coco-dataset\n",
    "def binary_mask_to_rle(binary_mask):\n",
    "    rle = {'counts': [], 'size': list(binary_mask.shape)}\n",
    "    counts = rle.get('counts')\n",
    "    for i, (value, elements) in enumerate(itertools.groupby(binary_mask.ravel(order='F'))):\n",
    "        if i == 0 and value == 1:\n",
    "            counts.append(0)\n",
    "        counts.append(len(list(elements)))\n",
    "    return rle\n",
    "\n",
    "idx = 0\n",
    "\n",
    "def coco_structure(image_ids):\n",
    "    global idx\n",
    "    cats =[{'name': \"blood_vessel\", 'id': 1}]\n",
    "    images = [{'id':image_id, 'width': 512, 'height': 512, 'file_name': image_map[image_id]} for image_id in image_ids]\n",
    "    coco_annotations = []\n",
    "\n",
    "    for _, image_id in enumerate(tqdm(image_ids)):\n",
    "        polygons = annotations[image_id]\n",
    "        for polygon in polygons:\n",
    "            if polygon[\"type\"] != \"blood_vessel\": continue\n",
    "            lines = np.array(polygon['coordinates'])\n",
    "            lines = lines.reshape(-1, 1, 2)\n",
    "            mk = np.zeros((512, 512), dtype=np.uint8)\n",
    "            cv2.fillPoly(mk, [lines], 1)\n",
    "\n",
    "            ys, xs = np.where(mk)\n",
    "            x1, x2 = min(xs), max(xs)\n",
    "            y1, y2 = min(ys), max(ys)\n",
    "            enc = binary_mask_to_rle(mk)\n",
    "            seg = {\n",
    "                'segmentation':enc, \n",
    "                'bbox': [int(x1), int(y1), int(x2-x1+1), int(y2-y1+1)],\n",
    "                'bbox_mode': 1,\n",
    "                'area': int(np.sum(mk)),\n",
    "                'image_id': image_id, \n",
    "                'category_id': 1,\n",
    "                'iscrowd': 0,\n",
    "                'id': idx\n",
    "            }\n",
    "            coco_annotations.append(seg)\n",
    "            idx += 1\n",
    "    return {'categories':cats, 'images':images,'annotations': coco_annotations}\n",
    "\n",
    "train_df = pd.DataFrame()\n",
    "train_df[\"id\"] = list(annotations.keys())\n",
    "ids = train_df.id.values\n",
    "folds = KFold(n_splits=5, random_state=2023, shuffle=True).split(ids)\n",
    "for fold, (train_idx, val_idx) in enumerate(folds):\n",
    "    train_ids, val_ids = ids[train_idx], ids[val_idx]\n",
    "\n",
    "    train_json = coco_structure(train_ids)\n",
    "    valid_json = coco_structure(val_ids)\n",
    "\n",
    "    with open(f'../folds/coco_cell_train_fold{fold}.json', 'w', encoding='utf-8') as f:\n",
    "        json.dump(train_json, f, ensure_ascii=True, indent=4)\n",
    "    with open(f'../folds/coco_cell_valid_fold{fold}.json', 'w', encoding='utf-8') as f:\n",
    "        json.dump(valid_json, f, ensure_ascii=True, indent=4)\n"
   ]
  }
 ],
 "metadata": {
  "kernelspec": {
   "display_name": "Python 3.8.5 ('base')",
   "language": "python",
   "name": "python3"
  },
  "language_info": {
   "codemirror_mode": {
    "name": "ipython",
    "version": 3
   },
   "file_extension": ".py",
   "mimetype": "text/x-python",
   "name": "python",
   "nbconvert_exporter": "python",
   "pygments_lexer": "ipython3",
   "version": "3.8.5"
  },
  "orig_nbformat": 4,
  "vscode": {
   "interpreter": {
    "hash": "c6ff6d93c7d79f342dac0d02922526e4297c5fb34d893e0ad67d099f62d0db73"
   }
  }
 },
 "nbformat": 4,
 "nbformat_minor": 2
}
