{
 "metadata": {
  "language_info": {
   "codemirror_mode": {
    "name": "ipython",
    "version": 3
   },
   "file_extension": ".py",
   "mimetype": "text/x-python",
   "name": "python",
   "nbconvert_exporter": "python",
   "pygments_lexer": "ipython3",
   "version": "3.8.3-final"
  },
  "orig_nbformat": 2,
  "kernelspec": {
   "name": "python3",
   "display_name": "Python 3.8.3 64-bit ('base': conda)",
   "metadata": {
    "interpreter": {
     "hash": "bf8dda74b6ece9698557ab1431b2923c78a20e6d4213149bdefcdbfba3d79441"
    }
   }
  }
 },
 "nbformat": 4,
 "nbformat_minor": 2,
 "cells": [
  {
   "cell_type": "code",
   "execution_count": 1,
   "metadata": {},
   "outputs": [],
   "source": [
    "from sklearn.model_selection import GroupKFold\n",
    "import pandas as pd\n",
    "import numpy as np\n",
    "\n",
    "project_path = os.path.abspath('..')\n",
    "data_path = os.path.join(project_path, 'input')\n",
    "train_path = os.path.join(data_path, 'train')\n",
    "label_path = os.path.join(data_path, 'train.csv')\n",
    "annotation_path = os.path.join(data_path, 'train_annotations.csv')\n",
    "test_path = os.path.join(data_path, 'test')\n",
    "csv_path = os.path.join(data_path, 'sample_submission.csv')\n",
    "\n",
    "label_df = pd.read_csv(label_path)\n",
    "target_cols = label_df.iloc[:, 1:-1].columns.tolist()\n",
    "\n",
    "folds = GroupKFold(5)\n",
    "folds = folds.split(np.arange(label_df.shape[0]), label_df[target_cols], label_df['PatientID'])\n",
    "\n",
    "fold = next(folds)"
   ]
  },
  {
   "cell_type": "code",
   "execution_count": 9,
   "metadata": {},
   "outputs": [
    {
     "output_type": "execute_result",
     "data": {
      "text/plain": [
       "(17999, 3)"
      ]
     },
     "metadata": {},
     "execution_count": 9
    }
   ],
   "source": [
    "anno_df = pd.read_csv(annotation_path)\n",
    "anno_df.shape"
   ]
  },
  {
   "cell_type": "code",
   "execution_count": 11,
   "metadata": {},
   "outputs": [
    {
     "output_type": "execute_result",
     "data": {
      "text/plain": [
       "12084"
      ]
     },
     "metadata": {},
     "execution_count": 11
    }
   ],
   "source": [
    "label_df.shape[0] - anno_df.shape[0]"
   ]
  },
  {
   "cell_type": "code",
   "execution_count": 2,
   "metadata": {},
   "outputs": [],
   "source": [
    "train_idx, val_idx = fold\n",
    "train_df = label_df.loc[train_idx, :].reset_index(drop=True)\n",
    "val_df = label_df.loc[val_idx, :].reset_index(drop=True)"
   ]
  },
  {
   "cell_type": "code",
   "execution_count": 3,
   "metadata": {},
   "outputs": [
    {
     "output_type": "execute_result",
     "data": {
      "text/plain": [
       "                                        StudyInstanceUID  ETT - Abnormal  \\\n",
       "0      1.2.826.0.1.3680043.8.498.26697628953273228189...               0   \n",
       "1      1.2.826.0.1.3680043.8.498.23819260719748494858...               0   \n",
       "2      1.2.826.0.1.3680043.8.498.68286643202323212801...               0   \n",
       "3      1.2.826.0.1.3680043.8.498.11707076266253086830...               0   \n",
       "4      1.2.826.0.1.3680043.8.498.23133310896792275593...               0   \n",
       "...                                                  ...             ...   \n",
       "24061  1.2.826.0.1.3680043.8.498.74257566841157531124...               0   \n",
       "24062  1.2.826.0.1.3680043.8.498.46510939987173529969...               0   \n",
       "24063  1.2.826.0.1.3680043.8.498.43173270582850645437...               0   \n",
       "24064  1.2.826.0.1.3680043.8.498.95092491950130838685...               0   \n",
       "24065  1.2.826.0.1.3680043.8.498.99518162226171269731...               0   \n",
       "\n",
       "       ETT - Borderline  ETT - Normal  NGT - Abnormal  NGT - Borderline  \\\n",
       "0                     0             0               0                 0   \n",
       "1                     0             0               0                 0   \n",
       "2                     0             0               0                 0   \n",
       "3                     0             1               0                 0   \n",
       "4                     0             0               0                 0   \n",
       "...                 ...           ...             ...               ...   \n",
       "24061                 0             1               0                 0   \n",
       "24062                 0             0               0                 0   \n",
       "24063                 0             1               0                 0   \n",
       "24064                 0             0               0                 0   \n",
       "24065                 0             1               0                 0   \n",
       "\n",
       "       NGT - Incompletely Imaged  NGT - Normal  CVC - Abnormal  \\\n",
       "0                              0             1               0   \n",
       "1                              0             0               0   \n",
       "2                              0             0               1   \n",
       "3                              0             1               0   \n",
       "4                              0             0               0   \n",
       "...                          ...           ...             ...   \n",
       "24061                          0             0               0   \n",
       "24062                          0             0               0   \n",
       "24063                          1             0               1   \n",
       "24064                          0             0               0   \n",
       "24065                          0             0               0   \n",
       "\n",
       "       CVC - Borderline  CVC - Normal  Swan Ganz Catheter Present  PatientID  \n",
       "0                     0             0                           0  ec89415d1  \n",
       "1                     1             0                           0  3fc1c97e5  \n",
       "2                     0             0                           0  c31019814  \n",
       "3                     0             1                           0  8260896cf  \n",
       "4                     1             1                           0  f6147af3f  \n",
       "...                 ...           ...                         ...        ...  \n",
       "24061                 1             1                           0  5b5b9ac30  \n",
       "24062                 0             1                           0  7192404d8  \n",
       "24063                 0             1                           0  d4d1b066d  \n",
       "24064                 1             0                           0  01a6602b8  \n",
       "24065                 0             1                           0  e692d316c  \n",
       "\n",
       "[24066 rows x 13 columns]"
      ],
      "text/html": "<div>\n<style scoped>\n    .dataframe tbody tr th:only-of-type {\n        vertical-align: middle;\n    }\n\n    .dataframe tbody tr th {\n        vertical-align: top;\n    }\n\n    .dataframe thead th {\n        text-align: right;\n    }\n</style>\n<table border=\"1\" class=\"dataframe\">\n  <thead>\n    <tr style=\"text-align: right;\">\n      <th></th>\n      <th>StudyInstanceUID</th>\n      <th>ETT - Abnormal</th>\n      <th>ETT - Borderline</th>\n      <th>ETT - Normal</th>\n      <th>NGT - Abnormal</th>\n      <th>NGT - Borderline</th>\n      <th>NGT - Incompletely Imaged</th>\n      <th>NGT - Normal</th>\n      <th>CVC - Abnormal</th>\n      <th>CVC - Borderline</th>\n      <th>CVC - Normal</th>\n      <th>Swan Ganz Catheter Present</th>\n      <th>PatientID</th>\n    </tr>\n  </thead>\n  <tbody>\n    <tr>\n      <th>0</th>\n      <td>1.2.826.0.1.3680043.8.498.26697628953273228189...</td>\n      <td>0</td>\n      <td>0</td>\n      <td>0</td>\n      <td>0</td>\n      <td>0</td>\n      <td>0</td>\n      <td>1</td>\n      <td>0</td>\n      <td>0</td>\n      <td>0</td>\n      <td>0</td>\n      <td>ec89415d1</td>\n    </tr>\n    <tr>\n      <th>1</th>\n      <td>1.2.826.0.1.3680043.8.498.23819260719748494858...</td>\n      <td>0</td>\n      <td>0</td>\n      <td>0</td>\n      <td>0</td>\n      <td>0</td>\n      <td>0</td>\n      <td>0</td>\n      <td>0</td>\n      <td>1</td>\n      <td>0</td>\n      <td>0</td>\n      <td>3fc1c97e5</td>\n    </tr>\n    <tr>\n      <th>2</th>\n      <td>1.2.826.0.1.3680043.8.498.68286643202323212801...</td>\n      <td>0</td>\n      <td>0</td>\n      <td>0</td>\n      <td>0</td>\n      <td>0</td>\n      <td>0</td>\n      <td>0</td>\n      <td>1</td>\n      <td>0</td>\n      <td>0</td>\n      <td>0</td>\n      <td>c31019814</td>\n    </tr>\n    <tr>\n      <th>3</th>\n      <td>1.2.826.0.1.3680043.8.498.11707076266253086830...</td>\n      <td>0</td>\n      <td>0</td>\n      <td>1</td>\n      <td>0</td>\n      <td>0</td>\n      <td>0</td>\n      <td>1</td>\n      <td>0</td>\n      <td>0</td>\n      <td>1</td>\n      <td>0</td>\n      <td>8260896cf</td>\n    </tr>\n    <tr>\n      <th>4</th>\n      <td>1.2.826.0.1.3680043.8.498.23133310896792275593...</td>\n      <td>0</td>\n      <td>0</td>\n      <td>0</td>\n      <td>0</td>\n      <td>0</td>\n      <td>0</td>\n      <td>0</td>\n      <td>0</td>\n      <td>1</td>\n      <td>1</td>\n      <td>0</td>\n      <td>f6147af3f</td>\n    </tr>\n    <tr>\n      <th>...</th>\n      <td>...</td>\n      <td>...</td>\n      <td>...</td>\n      <td>...</td>\n      <td>...</td>\n      <td>...</td>\n      <td>...</td>\n      <td>...</td>\n      <td>...</td>\n      <td>...</td>\n      <td>...</td>\n      <td>...</td>\n      <td>...</td>\n    </tr>\n    <tr>\n      <th>24061</th>\n      <td>1.2.826.0.1.3680043.8.498.74257566841157531124...</td>\n      <td>0</td>\n      <td>0</td>\n      <td>1</td>\n      <td>0</td>\n      <td>0</td>\n      <td>0</td>\n      <td>0</td>\n      <td>0</td>\n      <td>1</td>\n      <td>1</td>\n      <td>0</td>\n      <td>5b5b9ac30</td>\n    </tr>\n    <tr>\n      <th>24062</th>\n      <td>1.2.826.0.1.3680043.8.498.46510939987173529969...</td>\n      <td>0</td>\n      <td>0</td>\n      <td>0</td>\n      <td>0</td>\n      <td>0</td>\n      <td>0</td>\n      <td>0</td>\n      <td>0</td>\n      <td>0</td>\n      <td>1</td>\n      <td>0</td>\n      <td>7192404d8</td>\n    </tr>\n    <tr>\n      <th>24063</th>\n      <td>1.2.826.0.1.3680043.8.498.43173270582850645437...</td>\n      <td>0</td>\n      <td>0</td>\n      <td>1</td>\n      <td>0</td>\n      <td>0</td>\n      <td>1</td>\n      <td>0</td>\n      <td>1</td>\n      <td>0</td>\n      <td>1</td>\n      <td>0</td>\n      <td>d4d1b066d</td>\n    </tr>\n    <tr>\n      <th>24064</th>\n      <td>1.2.826.0.1.3680043.8.498.95092491950130838685...</td>\n      <td>0</td>\n      <td>0</td>\n      <td>0</td>\n      <td>0</td>\n      <td>0</td>\n      <td>0</td>\n      <td>0</td>\n      <td>0</td>\n      <td>1</td>\n      <td>0</td>\n      <td>0</td>\n      <td>01a6602b8</td>\n    </tr>\n    <tr>\n      <th>24065</th>\n      <td>1.2.826.0.1.3680043.8.498.99518162226171269731...</td>\n      <td>0</td>\n      <td>0</td>\n      <td>1</td>\n      <td>0</td>\n      <td>0</td>\n      <td>0</td>\n      <td>0</td>\n      <td>0</td>\n      <td>0</td>\n      <td>1</td>\n      <td>0</td>\n      <td>e692d316c</td>\n    </tr>\n  </tbody>\n</table>\n<p>24066 rows × 13 columns</p>\n</div>"
     },
     "metadata": {},
     "execution_count": 3
    }
   ],
   "source": [
    "train_df"
   ]
  },
  {
   "cell_type": "code",
   "execution_count": 5,
   "metadata": {},
   "outputs": [
    {
     "output_type": "execute_result",
     "data": {
      "text/plain": [
       "30083"
      ]
     },
     "metadata": {},
     "execution_count": 5
    }
   ],
   "source": [
    "label_df.shape[0]"
   ]
  },
  {
   "cell_type": "code",
   "execution_count": 8,
   "metadata": {},
   "outputs": [
    {
     "output_type": "execute_result",
     "data": {
      "text/plain": [
       "44165.0"
      ]
     },
     "metadata": {},
     "execution_count": 8
    }
   ],
   "source": [
    "30083 + 3582 + 14000*0.75"
   ]
  },
  {
   "cell_type": "code",
   "execution_count": 4,
   "metadata": {},
   "outputs": [
    {
     "output_type": "execute_result",
     "data": {
      "text/plain": [
       "                                       StudyInstanceUID  ETT - Abnormal  \\\n",
       "0     1.2.826.0.1.3680043.8.498.46302891597398758759...               0   \n",
       "1     1.2.826.0.1.3680043.8.498.10050203009225938259...               0   \n",
       "2     1.2.826.0.1.3680043.8.498.91266853519846682206...               0   \n",
       "3     1.2.826.0.1.3680043.8.498.10129559062963528496...               0   \n",
       "4     1.2.826.0.1.3680043.8.498.43104496908194932746...               0   \n",
       "...                                                 ...             ...   \n",
       "6012  1.2.826.0.1.3680043.8.498.14804754843326101708...               0   \n",
       "6013  1.2.826.0.1.3680043.8.498.28991063692775679367...               0   \n",
       "6014  1.2.826.0.1.3680043.8.498.28397520643177744674...               0   \n",
       "6015  1.2.826.0.1.3680043.8.498.22428607248263186250...               0   \n",
       "6016  1.2.826.0.1.3680043.8.498.59704742952729813362...               0   \n",
       "\n",
       "      ETT - Borderline  ETT - Normal  NGT - Abnormal  NGT - Borderline  \\\n",
       "0                    0             1               0                 0   \n",
       "1                    0             0               0                 0   \n",
       "2                    0             0               0                 0   \n",
       "3                    0             1               0                 0   \n",
       "4                    0             1               0                 0   \n",
       "...                ...           ...             ...               ...   \n",
       "6012                 0             1               0                 0   \n",
       "6013                 0             0               0                 0   \n",
       "6014                 0             0               0                 0   \n",
       "6015                 0             0               0                 0   \n",
       "6016                 0             0               0                 0   \n",
       "\n",
       "      NGT - Incompletely Imaged  NGT - Normal  CVC - Abnormal  \\\n",
       "0                             1             0               0   \n",
       "1                             0             0               0   \n",
       "2                             1             0               0   \n",
       "3                             0             1               1   \n",
       "4                             1             0               1   \n",
       "...                         ...           ...             ...   \n",
       "6012                          0             1               0   \n",
       "6013                          0             0               0   \n",
       "6014                          0             0               0   \n",
       "6015                          0             0               1   \n",
       "6016                          0             0               1   \n",
       "\n",
       "      CVC - Borderline  CVC - Normal  Swan Ganz Catheter Present  PatientID  \n",
       "0                    0             1                           0  bf4c6da3c  \n",
       "1                    0             1                           0  207685cd1  \n",
       "2                    0             1                           0  2edf3dce3  \n",
       "3                    0             0                           0  9ebe3d714  \n",
       "4                    0             0                           0  e43599771  \n",
       "...                ...           ...                         ...        ...  \n",
       "6012                 0             1                           0  57be38495  \n",
       "6013                 0             1                           0  d31702943  \n",
       "6014                 0             1                           0  4985832d2  \n",
       "6015                 0             0                           0  20d23851d  \n",
       "6016                 0             0                           0  172c3c7ed  \n",
       "\n",
       "[6017 rows x 13 columns]"
      ],
      "text/html": "<div>\n<style scoped>\n    .dataframe tbody tr th:only-of-type {\n        vertical-align: middle;\n    }\n\n    .dataframe tbody tr th {\n        vertical-align: top;\n    }\n\n    .dataframe thead th {\n        text-align: right;\n    }\n</style>\n<table border=\"1\" class=\"dataframe\">\n  <thead>\n    <tr style=\"text-align: right;\">\n      <th></th>\n      <th>StudyInstanceUID</th>\n      <th>ETT - Abnormal</th>\n      <th>ETT - Borderline</th>\n      <th>ETT - Normal</th>\n      <th>NGT - Abnormal</th>\n      <th>NGT - Borderline</th>\n      <th>NGT - Incompletely Imaged</th>\n      <th>NGT - Normal</th>\n      <th>CVC - Abnormal</th>\n      <th>CVC - Borderline</th>\n      <th>CVC - Normal</th>\n      <th>Swan Ganz Catheter Present</th>\n      <th>PatientID</th>\n    </tr>\n  </thead>\n  <tbody>\n    <tr>\n      <th>0</th>\n      <td>1.2.826.0.1.3680043.8.498.46302891597398758759...</td>\n      <td>0</td>\n      <td>0</td>\n      <td>1</td>\n      <td>0</td>\n      <td>0</td>\n      <td>1</td>\n      <td>0</td>\n      <td>0</td>\n      <td>0</td>\n      <td>1</td>\n      <td>0</td>\n      <td>bf4c6da3c</td>\n    </tr>\n    <tr>\n      <th>1</th>\n      <td>1.2.826.0.1.3680043.8.498.10050203009225938259...</td>\n      <td>0</td>\n      <td>0</td>\n      <td>0</td>\n      <td>0</td>\n      <td>0</td>\n      <td>0</td>\n      <td>0</td>\n      <td>0</td>\n      <td>0</td>\n      <td>1</td>\n      <td>0</td>\n      <td>207685cd1</td>\n    </tr>\n    <tr>\n      <th>2</th>\n      <td>1.2.826.0.1.3680043.8.498.91266853519846682206...</td>\n      <td>0</td>\n      <td>0</td>\n      <td>0</td>\n      <td>0</td>\n      <td>0</td>\n      <td>1</td>\n      <td>0</td>\n      <td>0</td>\n      <td>0</td>\n      <td>1</td>\n      <td>0</td>\n      <td>2edf3dce3</td>\n    </tr>\n    <tr>\n      <th>3</th>\n      <td>1.2.826.0.1.3680043.8.498.10129559062963528496...</td>\n      <td>0</td>\n      <td>0</td>\n      <td>1</td>\n      <td>0</td>\n      <td>0</td>\n      <td>0</td>\n      <td>1</td>\n      <td>1</td>\n      <td>0</td>\n      <td>0</td>\n      <td>0</td>\n      <td>9ebe3d714</td>\n    </tr>\n    <tr>\n      <th>4</th>\n      <td>1.2.826.0.1.3680043.8.498.43104496908194932746...</td>\n      <td>0</td>\n      <td>0</td>\n      <td>1</td>\n      <td>0</td>\n      <td>0</td>\n      <td>1</td>\n      <td>0</td>\n      <td>1</td>\n      <td>0</td>\n      <td>0</td>\n      <td>0</td>\n      <td>e43599771</td>\n    </tr>\n    <tr>\n      <th>...</th>\n      <td>...</td>\n      <td>...</td>\n      <td>...</td>\n      <td>...</td>\n      <td>...</td>\n      <td>...</td>\n      <td>...</td>\n      <td>...</td>\n      <td>...</td>\n      <td>...</td>\n      <td>...</td>\n      <td>...</td>\n      <td>...</td>\n    </tr>\n    <tr>\n      <th>6012</th>\n      <td>1.2.826.0.1.3680043.8.498.14804754843326101708...</td>\n      <td>0</td>\n      <td>0</td>\n      <td>1</td>\n      <td>0</td>\n      <td>0</td>\n      <td>0</td>\n      <td>1</td>\n      <td>0</td>\n      <td>0</td>\n      <td>1</td>\n      <td>0</td>\n      <td>57be38495</td>\n    </tr>\n    <tr>\n      <th>6013</th>\n      <td>1.2.826.0.1.3680043.8.498.28991063692775679367...</td>\n      <td>0</td>\n      <td>0</td>\n      <td>0</td>\n      <td>0</td>\n      <td>0</td>\n      <td>0</td>\n      <td>0</td>\n      <td>0</td>\n      <td>0</td>\n      <td>1</td>\n      <td>0</td>\n      <td>d31702943</td>\n    </tr>\n    <tr>\n      <th>6014</th>\n      <td>1.2.826.0.1.3680043.8.498.28397520643177744674...</td>\n      <td>0</td>\n      <td>0</td>\n      <td>0</td>\n      <td>0</td>\n      <td>0</td>\n      <td>0</td>\n      <td>0</td>\n      <td>0</td>\n      <td>0</td>\n      <td>1</td>\n      <td>0</td>\n      <td>4985832d2</td>\n    </tr>\n    <tr>\n      <th>6015</th>\n      <td>1.2.826.0.1.3680043.8.498.22428607248263186250...</td>\n      <td>0</td>\n      <td>0</td>\n      <td>0</td>\n      <td>0</td>\n      <td>0</td>\n      <td>0</td>\n      <td>0</td>\n      <td>1</td>\n      <td>0</td>\n      <td>0</td>\n      <td>0</td>\n      <td>20d23851d</td>\n    </tr>\n    <tr>\n      <th>6016</th>\n      <td>1.2.826.0.1.3680043.8.498.59704742952729813362...</td>\n      <td>0</td>\n      <td>0</td>\n      <td>0</td>\n      <td>0</td>\n      <td>0</td>\n      <td>0</td>\n      <td>0</td>\n      <td>1</td>\n      <td>0</td>\n      <td>0</td>\n      <td>0</td>\n      <td>172c3c7ed</td>\n    </tr>\n  </tbody>\n</table>\n<p>6017 rows × 13 columns</p>\n</div>"
     },
     "metadata": {},
     "execution_count": 4
    }
   ],
   "source": [
    "val_df"
   ]
  }
 ]
}