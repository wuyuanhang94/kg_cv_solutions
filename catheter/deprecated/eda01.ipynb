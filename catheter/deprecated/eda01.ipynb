{
 "metadata": {
  "language_info": {
   "codemirror_mode": {
    "name": "ipython",
    "version": 3
   },
   "file_extension": ".py",
   "mimetype": "text/x-python",
   "name": "python",
   "nbconvert_exporter": "python",
   "pygments_lexer": "ipython3",
   "version": "3.8.3-final"
  },
  "orig_nbformat": 2,
  "kernelspec": {
   "name": "python3",
   "display_name": "Python 3.8.3 64-bit ('base': conda)",
   "metadata": {
    "interpreter": {
     "hash": "bf8dda74b6ece9698557ab1431b2923c78a20e6d4213149bdefcdbfba3d79441"
    }
   }
  }
 },
 "nbformat": 4,
 "nbformat_minor": 2,
 "cells": [
  {
   "cell_type": "code",
   "execution_count": 1,
   "metadata": {},
   "outputs": [
    {
     "output_type": "execute_result",
     "data": {
      "text/plain": [
       "                                        StudyInstanceUID             label  \\\n",
       "0      1.2.826.0.1.3680043.8.498.12616281126973421762...      CVC - Normal   \n",
       "1      1.2.826.0.1.3680043.8.498.12616281126973421762...      CVC - Normal   \n",
       "2      1.2.826.0.1.3680043.8.498.72921907356394389969...  CVC - Borderline   \n",
       "3      1.2.826.0.1.3680043.8.498.11697104485452001927...      CVC - Normal   \n",
       "4      1.2.826.0.1.3680043.8.498.87704688663091069148...      NGT - Normal   \n",
       "...                                                  ...               ...   \n",
       "17994  1.2.826.0.1.3680043.8.498.18590666552942008211...      ETT - Normal   \n",
       "17995  1.2.826.0.1.3680043.8.498.18590666552942008211...      CVC - Normal   \n",
       "17996  1.2.826.0.1.3680043.8.498.66774579023475418162...      CVC - Normal   \n",
       "17997  1.2.826.0.1.3680043.8.498.18560506324214035535...      CVC - Normal   \n",
       "17998  1.2.826.0.1.3680043.8.498.98119637144473510638...    CVC - Abnormal   \n",
       "\n",
       "                                                    data  \n",
       "0      [[1487, 1279], [1477, 1168], [1472, 1052], [14...  \n",
       "1      [[1328, 7], [1347, 101], [1383, 193], [1400, 2...  \n",
       "2      [[801, 1207], [812, 1112], [823, 1023], [842, ...  \n",
       "3      [[1366, 961], [1411, 861], [1453, 751], [1508,...  \n",
       "4      [[1862, 14], [1845, 293], [1801, 869], [1716, ...  \n",
       "...                                                  ...  \n",
       "17994  [[1489, 631], [1515, 571], [1563, 535], [1596,...  \n",
       "17995  [[1250, 1105], [1247, 1031], [1248, 970], [126...  \n",
       "17996  [[1379, 1402], [1389, 1233], [1386, 1137], [13...  \n",
       "17997  [[1302, 1543], [1308, 1488], [1317, 1355], [13...  \n",
       "17998  [[1144, 1022], [1162, 934], [1179, 783], [1188...  \n",
       "\n",
       "[17999 rows x 3 columns]"
      ],
      "text/html": "<div>\n<style scoped>\n    .dataframe tbody tr th:only-of-type {\n        vertical-align: middle;\n    }\n\n    .dataframe tbody tr th {\n        vertical-align: top;\n    }\n\n    .dataframe thead th {\n        text-align: right;\n    }\n</style>\n<table border=\"1\" class=\"dataframe\">\n  <thead>\n    <tr style=\"text-align: right;\">\n      <th></th>\n      <th>StudyInstanceUID</th>\n      <th>label</th>\n      <th>data</th>\n    </tr>\n  </thead>\n  <tbody>\n    <tr>\n      <th>0</th>\n      <td>1.2.826.0.1.3680043.8.498.12616281126973421762...</td>\n      <td>CVC - Normal</td>\n      <td>[[1487, 1279], [1477, 1168], [1472, 1052], [14...</td>\n    </tr>\n    <tr>\n      <th>1</th>\n      <td>1.2.826.0.1.3680043.8.498.12616281126973421762...</td>\n      <td>CVC - Normal</td>\n      <td>[[1328, 7], [1347, 101], [1383, 193], [1400, 2...</td>\n    </tr>\n    <tr>\n      <th>2</th>\n      <td>1.2.826.0.1.3680043.8.498.72921907356394389969...</td>\n      <td>CVC - Borderline</td>\n      <td>[[801, 1207], [812, 1112], [823, 1023], [842, ...</td>\n    </tr>\n    <tr>\n      <th>3</th>\n      <td>1.2.826.0.1.3680043.8.498.11697104485452001927...</td>\n      <td>CVC - Normal</td>\n      <td>[[1366, 961], [1411, 861], [1453, 751], [1508,...</td>\n    </tr>\n    <tr>\n      <th>4</th>\n      <td>1.2.826.0.1.3680043.8.498.87704688663091069148...</td>\n      <td>NGT - Normal</td>\n      <td>[[1862, 14], [1845, 293], [1801, 869], [1716, ...</td>\n    </tr>\n    <tr>\n      <th>...</th>\n      <td>...</td>\n      <td>...</td>\n      <td>...</td>\n    </tr>\n    <tr>\n      <th>17994</th>\n      <td>1.2.826.0.1.3680043.8.498.18590666552942008211...</td>\n      <td>ETT - Normal</td>\n      <td>[[1489, 631], [1515, 571], [1563, 535], [1596,...</td>\n    </tr>\n    <tr>\n      <th>17995</th>\n      <td>1.2.826.0.1.3680043.8.498.18590666552942008211...</td>\n      <td>CVC - Normal</td>\n      <td>[[1250, 1105], [1247, 1031], [1248, 970], [126...</td>\n    </tr>\n    <tr>\n      <th>17996</th>\n      <td>1.2.826.0.1.3680043.8.498.66774579023475418162...</td>\n      <td>CVC - Normal</td>\n      <td>[[1379, 1402], [1389, 1233], [1386, 1137], [13...</td>\n    </tr>\n    <tr>\n      <th>17997</th>\n      <td>1.2.826.0.1.3680043.8.498.18560506324214035535...</td>\n      <td>CVC - Normal</td>\n      <td>[[1302, 1543], [1308, 1488], [1317, 1355], [13...</td>\n    </tr>\n    <tr>\n      <th>17998</th>\n      <td>1.2.826.0.1.3680043.8.498.98119637144473510638...</td>\n      <td>CVC - Abnormal</td>\n      <td>[[1144, 1022], [1162, 934], [1179, 783], [1188...</td>\n    </tr>\n  </tbody>\n</table>\n<p>17999 rows × 3 columns</p>\n</div>"
     },
     "metadata": {},
     "execution_count": 1
    }
   ],
   "source": [
    "import pandas as pd\n",
    "\n",
    "df = pd.read_csv('../input/train_annotations.csv')\n",
    "df"
   ]
  }
 ]
}